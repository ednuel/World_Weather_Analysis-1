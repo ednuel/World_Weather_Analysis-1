{
 "cells": [
  {
   "cell_type": "code",
   "execution_count": 1,
   "metadata": {
    "scrolled": true
   },
   "outputs": [],
   "source": [
    "import gmaps\n",
    "from config_gmaps import g_key\n",
    "import pandas as pd \n",
    "import requests"
   ]
  },
  {
   "cell_type": "code",
   "execution_count": 2,
   "metadata": {
    "scrolled": true
   },
   "outputs": [
    {
     "data": {
      "text/plain": [
       "City_ID         int64\n",
       "City           object\n",
       "Country        object\n",
       "Date           object\n",
       "Lat           float64\n",
       "Lng           float64\n",
       "Max Temp      float64\n",
       "Humidity        int64\n",
       "Cloudiness      int64\n",
       "Wind Speed    float64\n",
       "dtype: object"
      ]
     },
     "execution_count": 2,
     "metadata": {},
     "output_type": "execute_result"
    }
   ],
   "source": [
    "city_data_gmaps_df = pd.read_csv('weather_data/cities.csv')\n",
    "city_data_gmaps_df.dtypes"
   ]
  },
  {
   "cell_type": "code",
   "execution_count": 3,
   "metadata": {
    "scrolled": false
   },
   "outputs": [
    {
     "data": {
      "application/vnd.jupyter.widget-view+json": {
       "model_id": "d38122952d964ea19409cdb408578f3a",
       "version_major": 2,
       "version_minor": 0
      },
      "text/plain": [
       "Figure(layout=FigureLayout(height='420px'))"
      ]
     },
     "metadata": {},
     "output_type": "display_data"
    }
   ],
   "source": [
    "#Max Temperature Heatmap\n",
    "gmaps.configure(api_key=g_key)\n",
    "\n",
    "locations = city_data_gmaps_df[['Lat','Lng']]\n",
    "maxTemp = city_data_gmaps_df['Max Temp']\n",
    "adj_maxTemp_weights = [max(temp, 0) for temp in maxTemp]\n",
    "\n",
    "fig = gmaps.figure(center = (30.0,31.0), zoom_level =1.5)\n",
    "\n",
    "heatmap_layer = gmaps.heatmap_layer(locations, weights = adj_maxTemp_weights, \n",
    "                                    dissipating = False, max_intensity = 300, point_radius=4)\n",
    "# Add the heatmap layer.\n",
    "fig.add_layer(heatmap_layer)\n",
    "# Call the figure to plot the data\n",
    "fig"
   ]
  },
  {
   "cell_type": "code",
   "execution_count": 4,
   "metadata": {},
   "outputs": [
    {
     "data": {
      "application/vnd.jupyter.widget-view+json": {
       "model_id": "3c2e3a5c69fa4fdf8f869c92a29cc296",
       "version_major": 2,
       "version_minor": 0
      },
      "text/plain": [
       "Figure(layout=FigureLayout(height='420px'))"
      ]
     },
     "metadata": {},
     "output_type": "display_data"
    }
   ],
   "source": [
    "# Percent Humidity Heatmap\n",
    "locations = city_data_gmaps_df[['Lat','Lng']]\n",
    "humidity = city_data_gmaps_df['Humidity']\n",
    "\n",
    "heatmap_layer = gmaps.heatmap_layer(locations, weights=humidity,\n",
    "                            dissipating = False, max_intensity=300, point_radius=4)\n",
    "fig = gmaps.figure(center=(30.0,31.0), zoom_level = 1.5)\n",
    "fig.add_layer(heatmap_layer)\n",
    "fig"
   ]
  },
  {
   "cell_type": "code",
   "execution_count": 5,
   "metadata": {},
   "outputs": [
    {
     "data": {
      "application/vnd.jupyter.widget-view+json": {
       "model_id": "217699d4e80d43a487d44a6504bba16c",
       "version_major": 2,
       "version_minor": 0
      },
      "text/plain": [
       "Figure(layout=FigureLayout(height='420px'))"
      ]
     },
     "metadata": {},
     "output_type": "display_data"
    }
   ],
   "source": [
    "# Percent Cloudiness Heatmap\n",
    "locations = city_data_gmaps_df[['Lat','Lng']]\n",
    "clouds = city_data_gmaps_df['Cloudiness']\n",
    "\n",
    "heatmap_layer = gmaps.heatmap_layer(locations,weights=clouds,\n",
    "                    dissipating=False, max_intensity=300, point_radius=4)\n",
    "fig = gmaps.figure(center = (30.0,31.0), zoom_level =1.5)\n",
    "fig.add_layer(heatmap_layer)\n",
    "\n",
    "fig"
   ]
  },
  {
   "cell_type": "code",
   "execution_count": 6,
   "metadata": {
    "scrolled": true
   },
   "outputs": [
    {
     "data": {
      "application/vnd.jupyter.widget-view+json": {
       "model_id": "60028d4332a74e7e87ef397e6d0c04ac",
       "version_major": 2,
       "version_minor": 0
      },
      "text/plain": [
       "Figure(layout=FigureLayout(height='420px'))"
      ]
     },
     "metadata": {},
     "output_type": "display_data"
    }
   ],
   "source": [
    "# Wind Speed Heatmap\n",
    "locations = city_data_gmaps_df[['Lat','Lng']]\n",
    "wind = city_data_gmaps_df['Wind Speed']\n",
    "\n",
    "heatmap_layer = gmaps.heatmap_layer(locations, weights=wind,\n",
    "                            dissipating = False, max_intensity=300, point_radius=4)\n",
    "fig = gmaps.figure(center=(30.0,31.0), zoom_level = 1.5)\n",
    "fig.add_layer(heatmap_layer)\n",
    "fig"
   ]
  },
  {
   "cell_type": "code",
   "execution_count": 7,
   "metadata": {},
   "outputs": [
    {
     "name": "stdout",
     "output_type": "stream",
     "text": [
      "What is the minimum temperature you would like for your trip? 75\n",
      "What is the maximum temperature you would like for your trip? 85\n"
     ]
    },
    {
     "data": {
      "text/plain": [
       "City_ID       100\n",
       "City          100\n",
       "Country       100\n",
       "Date          100\n",
       "Lat           100\n",
       "Lng           100\n",
       "Max Temp      100\n",
       "Humidity      100\n",
       "Cloudiness    100\n",
       "Wind Speed    100\n",
       "dtype: int64"
      ]
     },
     "execution_count": 7,
     "metadata": {},
     "output_type": "execute_result"
    }
   ],
   "source": [
    "# user prompts for input min and max temp range\n",
    "min_prompt_temp = float(input('What is the minimum temperature you would like for your trip? '))\n",
    "max_prompt_temp = float(input('What is the maximum temperature you would like for your trip? '))                    \n",
    "\n",
    "preferred_city_data_gmaps_df = city_data_gmaps_df.loc[(city_data_gmaps_df['Max Temp']<=max_prompt_temp) & \\\n",
    "                                                      (city_data_gmaps_df['Max Temp']>=min_prompt_temp)]\n",
    "# dropna() for srop null values rows\n",
    "clean_preferred_city_data_gmaps_df = preferred_city_data_gmaps_df.dropna()\n",
    "clean_preferred_city_data_gmaps_df.count()"
   ]
  },
  {
   "cell_type": "code",
   "execution_count": 8,
   "metadata": {},
   "outputs": [
    {
     "data": {
      "text/html": [
       "<div>\n",
       "<style scoped>\n",
       "    .dataframe tbody tr th:only-of-type {\n",
       "        vertical-align: middle;\n",
       "    }\n",
       "\n",
       "    .dataframe tbody tr th {\n",
       "        vertical-align: top;\n",
       "    }\n",
       "\n",
       "    .dataframe thead th {\n",
       "        text-align: right;\n",
       "    }\n",
       "</style>\n",
       "<table border=\"1\" class=\"dataframe\">\n",
       "  <thead>\n",
       "    <tr style=\"text-align: right;\">\n",
       "      <th></th>\n",
       "      <th>City</th>\n",
       "      <th>Country</th>\n",
       "      <th>Max Temp</th>\n",
       "      <th>Lat</th>\n",
       "      <th>Lng</th>\n",
       "      <th>Hotel Name</th>\n",
       "    </tr>\n",
       "  </thead>\n",
       "  <tbody>\n",
       "    <tr>\n",
       "      <td>8</td>\n",
       "      <td>butaritari</td>\n",
       "      <td>KI</td>\n",
       "      <td>84.04</td>\n",
       "      <td>3.07</td>\n",
       "      <td>172.79</td>\n",
       "      <td></td>\n",
       "    </tr>\n",
       "    <tr>\n",
       "      <td>9</td>\n",
       "      <td>nelson bay</td>\n",
       "      <td>AU</td>\n",
       "      <td>78.80</td>\n",
       "      <td>-32.72</td>\n",
       "      <td>152.14</td>\n",
       "      <td></td>\n",
       "    </tr>\n",
       "    <tr>\n",
       "      <td>20</td>\n",
       "      <td>mahebourg</td>\n",
       "      <td>MU</td>\n",
       "      <td>84.20</td>\n",
       "      <td>-20.41</td>\n",
       "      <td>57.70</td>\n",
       "      <td></td>\n",
       "    </tr>\n",
       "    <tr>\n",
       "      <td>28</td>\n",
       "      <td>kilindoni</td>\n",
       "      <td>TZ</td>\n",
       "      <td>83.71</td>\n",
       "      <td>-7.91</td>\n",
       "      <td>39.67</td>\n",
       "      <td></td>\n",
       "    </tr>\n",
       "    <tr>\n",
       "      <td>30</td>\n",
       "      <td>kapaa</td>\n",
       "      <td>US</td>\n",
       "      <td>75.20</td>\n",
       "      <td>22.08</td>\n",
       "      <td>-159.32</td>\n",
       "      <td></td>\n",
       "    </tr>\n",
       "  </tbody>\n",
       "</table>\n",
       "</div>"
      ],
      "text/plain": [
       "          City Country  Max Temp    Lat     Lng Hotel Name\n",
       "8   butaritari      KI     84.04   3.07  172.79           \n",
       "9   nelson bay      AU     78.80 -32.72  152.14           \n",
       "20   mahebourg      MU     84.20 -20.41   57.70           \n",
       "28   kilindoni      TZ     83.71  -7.91   39.67           \n",
       "30       kapaa      US     75.20  22.08 -159.32           "
      ]
     },
     "execution_count": 8,
     "metadata": {},
     "output_type": "execute_result"
    }
   ],
   "source": [
    "hotel_df = clean_preferred_city_data_gmaps_df[[\"City\", \"Country\", \"Max Temp\", \"Lat\", \"Lng\"]].copy()\n",
    "hotel_df['Hotel Name'] = ''\n",
    "hotel_df.head()"
   ]
  },
  {
   "cell_type": "code",
   "execution_count": 9,
   "metadata": {},
   "outputs": [
    {
     "name": "stdout",
     "output_type": "stream",
     "text": [
      "Hotel not found... skipping\n",
      "Hotel not found... skipping\n",
      "Hotel not found... skipping\n",
      "Hotel not found... skipping\n",
      "Hotel not found... skipping\n",
      "Hotel not found... skipping\n"
     ]
    },
    {
     "data": {
      "text/html": [
       "<div>\n",
       "<style scoped>\n",
       "    .dataframe tbody tr th:only-of-type {\n",
       "        vertical-align: middle;\n",
       "    }\n",
       "\n",
       "    .dataframe tbody tr th {\n",
       "        vertical-align: top;\n",
       "    }\n",
       "\n",
       "    .dataframe thead th {\n",
       "        text-align: right;\n",
       "    }\n",
       "</style>\n",
       "<table border=\"1\" class=\"dataframe\">\n",
       "  <thead>\n",
       "    <tr style=\"text-align: right;\">\n",
       "      <th></th>\n",
       "      <th>City</th>\n",
       "      <th>Country</th>\n",
       "      <th>Max Temp</th>\n",
       "      <th>Lat</th>\n",
       "      <th>Lng</th>\n",
       "      <th>Hotel Name</th>\n",
       "    </tr>\n",
       "  </thead>\n",
       "  <tbody>\n",
       "    <tr>\n",
       "      <td>8</td>\n",
       "      <td>butaritari</td>\n",
       "      <td>KI</td>\n",
       "      <td>84.04</td>\n",
       "      <td>3.07</td>\n",
       "      <td>172.79</td>\n",
       "      <td>Isles Sunset Lodge</td>\n",
       "    </tr>\n",
       "    <tr>\n",
       "      <td>9</td>\n",
       "      <td>nelson bay</td>\n",
       "      <td>AU</td>\n",
       "      <td>78.80</td>\n",
       "      <td>-32.72</td>\n",
       "      <td>152.14</td>\n",
       "      <td>Mantra Nelson Bay</td>\n",
       "    </tr>\n",
       "    <tr>\n",
       "      <td>20</td>\n",
       "      <td>mahebourg</td>\n",
       "      <td>MU</td>\n",
       "      <td>84.20</td>\n",
       "      <td>-20.41</td>\n",
       "      <td>57.70</td>\n",
       "      <td>Shandrani Beachcomber Resort &amp; Spa</td>\n",
       "    </tr>\n",
       "    <tr>\n",
       "      <td>28</td>\n",
       "      <td>kilindoni</td>\n",
       "      <td>TZ</td>\n",
       "      <td>83.71</td>\n",
       "      <td>-7.91</td>\n",
       "      <td>39.67</td>\n",
       "      <td>Bustani B&amp;B</td>\n",
       "    </tr>\n",
       "    <tr>\n",
       "      <td>30</td>\n",
       "      <td>kapaa</td>\n",
       "      <td>US</td>\n",
       "      <td>75.20</td>\n",
       "      <td>22.08</td>\n",
       "      <td>-159.32</td>\n",
       "      <td>Sheraton Kauai Coconut Beach Resort</td>\n",
       "    </tr>\n",
       "  </tbody>\n",
       "</table>\n",
       "</div>"
      ],
      "text/plain": [
       "          City Country  Max Temp    Lat     Lng  \\\n",
       "8   butaritari      KI     84.04   3.07  172.79   \n",
       "9   nelson bay      AU     78.80 -32.72  152.14   \n",
       "20   mahebourg      MU     84.20 -20.41   57.70   \n",
       "28   kilindoni      TZ     83.71  -7.91   39.67   \n",
       "30       kapaa      US     75.20  22.08 -159.32   \n",
       "\n",
       "                             Hotel Name  \n",
       "8                    Isles Sunset Lodge  \n",
       "9                     Mantra Nelson Bay  \n",
       "20   Shandrani Beachcomber Resort & Spa  \n",
       "28                          Bustani B&B  \n",
       "30  Sheraton Kauai Coconut Beach Resort  "
      ]
     },
     "execution_count": 9,
     "metadata": {},
     "output_type": "execute_result"
    }
   ],
   "source": [
    "for index, row in hotel_df.iterrows():\n",
    "    lat = row['Lat']\n",
    "    lng = row['Lng']\n",
    "\n",
    "    base_url = 'https://maps.googleapis.com/maps/api/place/nearbysearch/json?'\n",
    "    params = {'key': g_key, 'type':'lodging', 'radius' : 5000}\n",
    "    params['location'] = f\"{lat},{lng}\"\n",
    "    try: \n",
    "        r_hotels = requests.get(base_url, params= params).json()\n",
    "\n",
    "        hotel_df.loc[index, 'Hotel Name'] = r_hotels['results'][0]['name']\n",
    "    except (IndexError):\n",
    "        print('Hotel not found... skipping')\n",
    "\n",
    "hotel_df.head()"
   ]
  },
  {
   "cell_type": "code",
   "execution_count": 10,
   "metadata": {},
   "outputs": [
    {
     "data": {
      "text/plain": [
       "City          100\n",
       "Country       100\n",
       "Max Temp      100\n",
       "Lat           100\n",
       "Lng           100\n",
       "Hotel Name    100\n",
       "dtype: int64"
      ]
     },
     "execution_count": 10,
     "metadata": {},
     "output_type": "execute_result"
    }
   ],
   "source": [
    "hotel_df.count()"
   ]
  },
  {
   "cell_type": "code",
   "execution_count": 22,
   "metadata": {
    "collapsed": true
   },
   "outputs": [
    {
     "data": {
      "application/vnd.jupyter.widget-view+json": {
       "model_id": "26bfaa2d060e4bf8a012edb4f9458eea",
       "version_major": 2,
       "version_minor": 0
      },
      "text/plain": [
       "Figure(layout=FigureLayout(height='420px'))"
      ]
     },
     "metadata": {},
     "output_type": "display_data"
    }
   ],
   "source": [
    "# add heatmap of max temp for the vacation spots\n",
    "v_locations = hotel_df[['Lat','Lng']]\n",
    "v_maxTemp = hotel_df['Max Temp']\n",
    "\n",
    "fig = gmaps.figure(center=(30.0,31.0),zoom_level = 1.5)\n",
    "heat_layer = gmaps.heatmap_layer(v_locations, weights= v_maxTemp, max_intensity = 300,\\\n",
    "                                 point_radius = 4, dissipating=False)\n",
    "marker_layer = gmaps.marker_layer(v_locations)\n",
    "fig.add_layer(heat_layer)\n",
    "fig.add_layer(marker_layer)\n",
    "fig"
   ]
  },
  {
   "cell_type": "code",
   "execution_count": 23,
   "metadata": {},
   "outputs": [
    {
     "data": {
      "application/vnd.jupyter.widget-view+json": {
       "model_id": "80f621430a804c76ae8f6813e2f23d76",
       "version_major": 2,
       "version_minor": 0
      },
      "text/plain": [
       "Figure(layout=FigureLayout(height='420px'))"
      ]
     },
     "metadata": {},
     "output_type": "display_data"
    }
   ],
   "source": [
    "# add pop-up info box on marker_layer\n",
    "v_locations = hotel_df[['Lat','Lng']]\n",
    "v_maxTemp = hotel_df['Max Temp']\n",
    "info_box_template='''\n",
    "<dl>\n",
    "<dt>Hotel Name</dt><dd>{Hotel Name}</dd>\n",
    "<dt>City</dt><dd>{City}</dd>\n",
    "<dt>Country</dt><dd>{Country}</dd>\n",
    "<dt>Max Temp</dt><dd>{Max Temp}°F</dd>\n",
    "</dl>'''\n",
    "\n",
    "hotel_info = [info_box_template.format(**row) for index, row in hotel_df.iterrows() ]\n",
    "\n",
    "fig = gmaps.figure(center=(30.0,31.0),zoom_level = 1.5)\n",
    "heat_layer = gmaps.heatmap_layer(v_locations, weights= v_maxTemp, max_intensity = 300,\\\n",
    "                                 point_radius = 4, dissipating=False)\n",
    "marker_layer = gmaps.marker_layer(v_locations, info_box_content = hotel_info)\n",
    "fig.add_layer(heat_layer)\n",
    "fig.add_layer(marker_layer)\n",
    "fig"
   ]
  },
  {
   "cell_type": "code",
   "execution_count": null,
   "metadata": {},
   "outputs": [],
   "source": []
  }
 ],
 "metadata": {
  "file_extension": ".py",
  "kernelspec": {
   "display_name": "PythonData",
   "language": "python",
   "name": "pythondata"
  },
  "language_info": {
   "codemirror_mode": {
    "name": "ipython",
    "version": 3
   },
   "file_extension": ".py",
   "mimetype": "text/x-python",
   "name": "python",
   "nbconvert_exporter": "python",
   "pygments_lexer": "ipython3",
   "version": "3.7.4"
  },
  "mimetype": "text/x-python",
  "name": "python",
  "npconvert_exporter": "python",
  "pygments_lexer": "ipython3",
  "version": 3
 },
 "nbformat": 4,
 "nbformat_minor": 2
}

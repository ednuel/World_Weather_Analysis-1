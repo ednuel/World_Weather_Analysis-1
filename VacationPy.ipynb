{
 "cells": [
  {
   "cell_type": "code",
   "execution_count": 3,
   "metadata": {
    "scrolled": true
   },
   "outputs": [],
   "source": [
    "import gmaps\n",
    "from config_gmaps import g_key\n",
    "import pandas as pd \n",
    "import requests"
   ]
  },
  {
   "cell_type": "code",
   "execution_count": 4,
   "metadata": {
    "scrolled": true
   },
   "outputs": [
    {
     "data": {
      "text/plain": [
       "City_ID         int64\n",
       "City           object\n",
       "Country        object\n",
       "Date           object\n",
       "Lat           float64\n",
       "Lng           float64\n",
       "Max Temp      float64\n",
       "Humidity        int64\n",
       "Cloudiness      int64\n",
       "Wind Speed    float64\n",
       "dtype: object"
      ]
     },
     "execution_count": 4,
     "metadata": {},
     "output_type": "execute_result"
    }
   ],
   "source": [
    "city_data_gmaps_df = pd.read_csv('weather_data/cities.csv')\n",
    "city_data_gmaps_df.dtypes"
   ]
  },
  {
   "cell_type": "code",
   "execution_count": 5,
   "metadata": {
    "scrolled": false
   },
   "outputs": [
    {
     "data": {
      "application/vnd.jupyter.widget-view+json": {
       "model_id": "19a4b6f1c4b64a398c80bca8a86c08ae",
       "version_major": 2,
       "version_minor": 0
      },
      "text/plain": [
       "Figure(layout=FigureLayout(height='420px'))"
      ]
     },
     "metadata": {},
     "output_type": "display_data"
    }
   ],
   "source": [
    "#Max Temperature Heatmap\n",
    "gmaps.configure(api_key=g_key)\n",
    "\n",
    "locations = city_data_gmaps_df[['Lat','Lng']]\n",
    "maxTemp = city_data_gmaps_df['Max Temp']\n",
    "adj_maxTemp_weights = [max(temp, 0) for temp in maxTemp]\n",
    "\n",
    "fig = gmaps.figure(center = (30.0,31.0), zoom_level =1.5)\n",
    "\n",
    "heatmap_layer = gmaps.heatmap_layer(locations, weights = adj_maxTemp_weights, \n",
    "                                    dissipating = False, max_intensity = 300, point_radius=4)\n",
    "# Add the heatmap layer.\n",
    "fig.add_layer(heatmap_layer)\n",
    "# Call the figure to plot the data\n",
    "fig"
   ]
  },
  {
   "cell_type": "code",
   "execution_count": 6,
   "metadata": {},
   "outputs": [
    {
     "data": {
      "application/vnd.jupyter.widget-view+json": {
       "model_id": "08a6658f73114cdf998bcb8499c2b1e9",
       "version_major": 2,
       "version_minor": 0
      },
      "text/plain": [
       "Figure(layout=FigureLayout(height='420px'))"
      ]
     },
     "metadata": {},
     "output_type": "display_data"
    }
   ],
   "source": [
    "# Percent Humidity Heatmap\n",
    "locations = city_data_gmaps_df[['Lat','Lng']]\n",
    "humidity = city_data_gmaps_df['Humidity']\n",
    "\n",
    "heatmap_layer = gmaps.heatmap_layer(locations, weights=humidity,\n",
    "                            dissipating = False, max_intensity=300, point_radius=4)\n",
    "fig = gmaps.figure(center=(30.0,31.0), zoom_level = 1.5)\n",
    "fig.add_layer(heatmap_layer)\n",
    "fig"
   ]
  },
  {
   "cell_type": "code",
   "execution_count": 7,
   "metadata": {},
   "outputs": [
    {
     "data": {
      "application/vnd.jupyter.widget-view+json": {
       "model_id": "b61bf8893b8e465cbbdcd877b55955ae",
       "version_major": 2,
       "version_minor": 0
      },
      "text/plain": [
       "Figure(layout=FigureLayout(height='420px'))"
      ]
     },
     "metadata": {},
     "output_type": "display_data"
    }
   ],
   "source": [
    "# Percent Cloudiness Heatmap\n",
    "locations = city_data_gmaps_df[['Lat','Lng']]\n",
    "clouds = city_data_gmaps_df['Cloudiness']\n",
    "\n",
    "heatmap_layer = gmaps.heatmap_layer(locations,weights=clouds,\n",
    "                    dissipating=False, max_intensity=300, point_radius=4)\n",
    "fig = gmaps.figure(center = (30.0,31.0), zoom_level =1.5)\n",
    "fig.add_layer(heatmap_layer)\n",
    "\n",
    "fig"
   ]
  },
  {
   "cell_type": "code",
   "execution_count": 8,
   "metadata": {
    "scrolled": true
   },
   "outputs": [
    {
     "data": {
      "application/vnd.jupyter.widget-view+json": {
       "model_id": "f29904d61f9c4de7ae0969a069a2c8cb",
       "version_major": 2,
       "version_minor": 0
      },
      "text/plain": [
       "Figure(layout=FigureLayout(height='420px'))"
      ]
     },
     "metadata": {},
     "output_type": "display_data"
    }
   ],
   "source": [
    "# Wind Speed Heatmap\n",
    "locations = city_data_gmaps_df[['Lat','Lng']]\n",
    "wind = city_data_gmaps_df['Wind Speed']\n",
    "\n",
    "heatmap_layer = gmaps.heatmap_layer(locations, weights=wind,\n",
    "                            dissipating = False, max_intensity=300, point_radius=4)\n",
    "fig = gmaps.figure(center=(30.0,31.0), zoom_level = 1.5)\n",
    "fig.add_layer(heatmap_layer)\n",
    "fig"
   ]
  },
  {
   "cell_type": "code",
   "execution_count": 12,
   "metadata": {},
   "outputs": [
    {
     "name": "stdout",
     "output_type": "stream",
     "text": [
      "What is the minimum temperature you would like for your trip? 75\n",
      "What is the maximum temperature you would like for your trip? 90\n"
     ]
    },
    {
     "data": {
      "text/plain": [
       "City_ID       156\n",
       "City          156\n",
       "Country       156\n",
       "Date          156\n",
       "Lat           156\n",
       "Lng           156\n",
       "Max Temp      156\n",
       "Humidity      156\n",
       "Cloudiness    156\n",
       "Wind Speed    156\n",
       "dtype: int64"
      ]
     },
     "execution_count": 12,
     "metadata": {},
     "output_type": "execute_result"
    }
   ],
   "source": [
    "# user prompts for input min and max temp range\n",
    "min_prompt_temp = float(input('What is the minimum temperature you would like for your trip? '))\n",
    "max_prompt_temp = float(input('What is the maximum temperature you would like for your trip? '))                    \n",
    "\n",
    "preferred_city_data_gmaps_df = city_data_gmaps_df.loc[(city_data_gmaps_df['Max Temp']<=max_prompt_temp) & \\\n",
    "                                                      (city_data_gmaps_df['Max Temp']>=min_prompt_temp)]\n",
    "# dropna() for srop null values rows\n",
    "clean_preferred_city_data_gmaps_df = preferred_city_data_gmaps_df.dropna()\n",
    "clean_preferred_city_data_gmaps_df.count()"
   ]
  },
  {
   "cell_type": "code",
   "execution_count": 13,
   "metadata": {},
   "outputs": [
    {
     "data": {
      "text/html": [
       "<div>\n",
       "<style scoped>\n",
       "    .dataframe tbody tr th:only-of-type {\n",
       "        vertical-align: middle;\n",
       "    }\n",
       "\n",
       "    .dataframe tbody tr th {\n",
       "        vertical-align: top;\n",
       "    }\n",
       "\n",
       "    .dataframe thead th {\n",
       "        text-align: right;\n",
       "    }\n",
       "</style>\n",
       "<table border=\"1\" class=\"dataframe\">\n",
       "  <thead>\n",
       "    <tr style=\"text-align: right;\">\n",
       "      <th></th>\n",
       "      <th>City</th>\n",
       "      <th>Country</th>\n",
       "      <th>Max Temp</th>\n",
       "      <th>Lat</th>\n",
       "      <th>Lng</th>\n",
       "      <th>Hotel Name</th>\n",
       "    </tr>\n",
       "  </thead>\n",
       "  <tbody>\n",
       "    <tr>\n",
       "      <td>2</td>\n",
       "      <td>marsh harbour</td>\n",
       "      <td>BS</td>\n",
       "      <td>76.08</td>\n",
       "      <td>26.54</td>\n",
       "      <td>-77.06</td>\n",
       "      <td></td>\n",
       "    </tr>\n",
       "    <tr>\n",
       "      <td>3</td>\n",
       "      <td>buala</td>\n",
       "      <td>SB</td>\n",
       "      <td>77.85</td>\n",
       "      <td>-8.15</td>\n",
       "      <td>159.59</td>\n",
       "      <td></td>\n",
       "    </tr>\n",
       "    <tr>\n",
       "      <td>6</td>\n",
       "      <td>hilo</td>\n",
       "      <td>US</td>\n",
       "      <td>75.99</td>\n",
       "      <td>19.71</td>\n",
       "      <td>-155.08</td>\n",
       "      <td></td>\n",
       "    </tr>\n",
       "    <tr>\n",
       "      <td>7</td>\n",
       "      <td>chuy</td>\n",
       "      <td>UY</td>\n",
       "      <td>81.91</td>\n",
       "      <td>-33.69</td>\n",
       "      <td>-53.46</td>\n",
       "      <td></td>\n",
       "    </tr>\n",
       "    <tr>\n",
       "      <td>12</td>\n",
       "      <td>richards bay</td>\n",
       "      <td>ZA</td>\n",
       "      <td>75.58</td>\n",
       "      <td>-28.77</td>\n",
       "      <td>32.06</td>\n",
       "      <td></td>\n",
       "    </tr>\n",
       "  </tbody>\n",
       "</table>\n",
       "</div>"
      ],
      "text/plain": [
       "             City Country  Max Temp    Lat     Lng Hotel Name\n",
       "2   marsh harbour      BS     76.08  26.54  -77.06           \n",
       "3           buala      SB     77.85  -8.15  159.59           \n",
       "6            hilo      US     75.99  19.71 -155.08           \n",
       "7            chuy      UY     81.91 -33.69  -53.46           \n",
       "12   richards bay      ZA     75.58 -28.77   32.06           "
      ]
     },
     "execution_count": 13,
     "metadata": {},
     "output_type": "execute_result"
    }
   ],
   "source": [
    "hotel_df = clean_preferred_city_data_gmaps_df[[\"City\", \"Country\", \"Max Temp\", \"Lat\", \"Lng\"]].copy()\n",
    "hotel_df['Hotel Name'] = ''\n",
    "hotel_df.head()"
   ]
  },
  {
   "cell_type": "code",
   "execution_count": null,
   "metadata": {},
   "outputs": [],
   "source": []
  }
 ],
 "metadata": {
  "file_extension": ".py",
  "kernelspec": {
   "display_name": "PythonData",
   "language": "python",
   "name": "pythondata"
  },
  "language_info": {
   "codemirror_mode": {
    "name": "ipython",
    "version": 3
   },
   "file_extension": ".py",
   "mimetype": "text/x-python",
   "name": "python",
   "nbconvert_exporter": "python",
   "pygments_lexer": "ipython3",
   "version": "3.7.4"
  },
  "mimetype": "text/x-python",
  "name": "python",
  "npconvert_exporter": "python",
  "pygments_lexer": "ipython3",
  "version": 3
 },
 "nbformat": 4,
 "nbformat_minor": 2
}
